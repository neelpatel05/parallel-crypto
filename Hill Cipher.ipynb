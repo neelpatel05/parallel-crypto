{
 "cells": [
  {
   "cell_type": "code",
   "execution_count": 2,
   "metadata": {},
   "outputs": [
    {
     "name": "stderr",
     "output_type": "stream",
     "text": [
      "2020-04-04 14:56:42,717\tINFO resource_spec.py:212 -- Starting Ray with 2.54 GiB memory available for workers and up to 1.27 GiB for objects. You can adjust these settings with ray.init(memory=<bytes>, object_store_memory=<bytes>).\n",
      "2020-04-04 14:56:43,245\tINFO services.py:1148 -- View the Ray dashboard at \u001b[1m\u001b[32mlocalhost:8265\u001b[39m\u001b[22m\n"
     ]
    },
    {
     "data": {
      "text/plain": [
       "{'node_ip_address': '10.0.0.118',\n",
       " 'redis_address': '10.0.0.118:65035',\n",
       " 'object_store_address': '/tmp/ray/session_2020-04-04_14-56-42_703003_2232/sockets/plasma_store',\n",
       " 'raylet_socket_name': '/tmp/ray/session_2020-04-04_14-56-42_703003_2232/sockets/raylet',\n",
       " 'webui_url': 'localhost:8265',\n",
       " 'session_dir': '/tmp/ray/session_2020-04-04_14-56-42_703003_2232'}"
      ]
     },
     "execution_count": 2,
     "metadata": {},
     "output_type": "execute_result"
    }
   ],
   "source": [
    "import numpy as np\n",
    "import time\n",
    "import ray\n",
    "ray.init(lru_evict=True)"
   ]
  },
  {
   "cell_type": "code",
   "execution_count": 3,
   "metadata": {},
   "outputs": [],
   "source": [
    "@ray.remote\n",
    "def hill_enc(plaintext):\n",
    "    \n",
    "    M = np.array([[25,15,20],[7,8,22],[7,13,13]])\n",
    "    if len(plaintext)%3!=0: plaintext = plaintext + \"x\"*(((len(plaintext)//3) + 1)*3 - len(plaintext))\n",
    "    plaintext_ascii = [ord(i)-97 for i in plaintext[0:(len(plaintext)*((len(plaintext)//3)+1))]]\n",
    "    plaintext_three_words_ascii = [np.asarray(plaintext_ascii[i:i+3]) for i in range(0,len(plaintext_ascii),3)]\n",
    "    ciphertext_three_words_ascii = [np.matmul(M, i) for i in plaintext_three_words_ascii]\n",
    "    ciphertext_three_words_ascii = [chr((j%26)+97) for i in ciphertext_three_words_ascii for j in i]\n",
    "    c = \"\".join(ciphertext_three_words_ascii)\n",
    "    \n",
    "    return c"
   ]
  },
  {
   "cell_type": "code",
   "execution_count": 4,
   "metadata": {},
   "outputs": [],
   "source": [
    "hill_single_core_list = []\n",
    "\n",
    "def hill_single_core(length_list):\n",
    "    for i in length_list:\n",
    "        plaintext = \"a\"*i\n",
    "        \n",
    "        start_time = time.time()\n",
    "        \n",
    "        full_at_a_time = hill_enc.remote(plaintext)\n",
    "        full_at_a_time = ray.get(full_at_a_time)\n",
    "        \n",
    "        hill_single_core_list.append(time.time() - start_time)"
   ]
  },
  {
   "cell_type": "code",
   "execution_count": 10,
   "metadata": {},
   "outputs": [],
   "source": [
    "hill_double_core_list = []\n",
    "\n",
    "def hill_double_core(length_list):\n",
    "    for i in length_list:\n",
    "        plaintext = 'a'*i\n",
    "        first_half = plaintext[:len(plaintext)//2]\n",
    "        second_half = plaintext[len(plaintext)//2:]\n",
    "        \n",
    "        start_time = time.time()\n",
    "        \n",
    "        first_half = hill_enc.remote(first_half)\n",
    "        second_half = hill_enc.remote(second_half)\n",
    "        \n",
    "        first_half = ray.get(first_half)\n",
    "        second_half = ray.get(second_half)\n",
    "        \n",
    "        hill_double_core_list.append(time.time() - start_time)"
   ]
  },
  {
   "cell_type": "code",
   "execution_count": 6,
   "metadata": {},
   "outputs": [
    {
     "ename": "TypeError",
     "evalue": "'list' object cannot be interpreted as an integer",
     "output_type": "error",
     "traceback": [
      "\u001b[0;31m---------------------------------------------------------------------------\u001b[0m",
      "\u001b[0;31mTypeError\u001b[0m                                 Traceback (most recent call last)",
      "\u001b[0;32m<ipython-input-6-3a9db840071f>\u001b[0m in \u001b[0;36m<module>\u001b[0;34m\u001b[0m\n\u001b[1;32m      1\u001b[0m \u001b[0mlength_list\u001b[0m \u001b[0;34m=\u001b[0m \u001b[0;34m[\u001b[0m\u001b[0;36m96\u001b[0m\u001b[0;34m,\u001b[0m \u001b[0;36m996\u001b[0m\u001b[0;34m,\u001b[0m \u001b[0;36m9996\u001b[0m\u001b[0;34m,\u001b[0m \u001b[0;36m99996\u001b[0m\u001b[0;34m,\u001b[0m \u001b[0;36m999996\u001b[0m\u001b[0;34m,\u001b[0m \u001b[0;36m9999996\u001b[0m\u001b[0;34m]\u001b[0m\u001b[0;34m\u001b[0m\u001b[0;34m\u001b[0m\u001b[0m\n\u001b[1;32m      2\u001b[0m \u001b[0mhill_single_core\u001b[0m\u001b[0;34m(\u001b[0m\u001b[0mlength_list\u001b[0m\u001b[0;34m)\u001b[0m\u001b[0;34m\u001b[0m\u001b[0;34m\u001b[0m\u001b[0m\n\u001b[0;32m----> 3\u001b[0;31m \u001b[0mhill_double_core\u001b[0m\u001b[0;34m(\u001b[0m\u001b[0mlength_list\u001b[0m\u001b[0;34m)\u001b[0m\u001b[0;34m\u001b[0m\u001b[0;34m\u001b[0m\u001b[0m\n\u001b[0m",
      "\u001b[0;32m<ipython-input-5-7e9a298a9876>\u001b[0m in \u001b[0;36mhill_double_core\u001b[0;34m(length_list)\u001b[0m\n\u001b[1;32m      2\u001b[0m \u001b[0;34m\u001b[0m\u001b[0m\n\u001b[1;32m      3\u001b[0m \u001b[0;32mdef\u001b[0m \u001b[0mhill_double_core\u001b[0m\u001b[0;34m(\u001b[0m\u001b[0mlength_list\u001b[0m\u001b[0;34m)\u001b[0m\u001b[0;34m:\u001b[0m\u001b[0;34m\u001b[0m\u001b[0;34m\u001b[0m\u001b[0m\n\u001b[0;32m----> 4\u001b[0;31m     \u001b[0;32mfor\u001b[0m \u001b[0mi\u001b[0m \u001b[0;32min\u001b[0m \u001b[0mrange\u001b[0m\u001b[0;34m(\u001b[0m\u001b[0mlength_list\u001b[0m\u001b[0;34m)\u001b[0m\u001b[0;34m:\u001b[0m\u001b[0;34m\u001b[0m\u001b[0;34m\u001b[0m\u001b[0m\n\u001b[0m\u001b[1;32m      5\u001b[0m         \u001b[0mfirst_half\u001b[0m \u001b[0;34m=\u001b[0m \u001b[0mplaintext\u001b[0m\u001b[0;34m[\u001b[0m\u001b[0;34m:\u001b[0m\u001b[0mlen\u001b[0m\u001b[0;34m(\u001b[0m\u001b[0mplaintext\u001b[0m\u001b[0;34m)\u001b[0m\u001b[0;34m//\u001b[0m\u001b[0;36m2\u001b[0m\u001b[0;34m]\u001b[0m\u001b[0;34m\u001b[0m\u001b[0;34m\u001b[0m\u001b[0m\n\u001b[1;32m      6\u001b[0m         \u001b[0msecond_half\u001b[0m \u001b[0;34m=\u001b[0m \u001b[0mplaintext\u001b[0m\u001b[0;34m[\u001b[0m\u001b[0mlen\u001b[0m\u001b[0;34m(\u001b[0m\u001b[0mplaintext\u001b[0m\u001b[0;34m)\u001b[0m\u001b[0;34m//\u001b[0m\u001b[0;36m2\u001b[0m\u001b[0;34m:\u001b[0m\u001b[0;34m]\u001b[0m\u001b[0;34m\u001b[0m\u001b[0;34m\u001b[0m\u001b[0m\n",
      "\u001b[0;31mTypeError\u001b[0m: 'list' object cannot be interpreted as an integer"
     ]
    }
   ],
   "source": [
    "length_list = [96, 996, 9996, 99996, 999996, 9999996]\n",
    "hill_single_core(length_list)"
   ]
  },
  {
   "cell_type": "code",
   "execution_count": 7,
   "metadata": {},
   "outputs": [
    {
     "name": "stdout",
     "output_type": "stream",
     "text": [
      "[0.016333818435668945, 0.008794069290161133, 0.0444028377532959, 0.4989898204803467, 21.374417781829834, 2046.4640791416168]\n"
     ]
    }
   ],
   "source": [
    "print(hill_single_core_list)"
   ]
  },
  {
   "cell_type": "code",
   "execution_count": 11,
   "metadata": {},
   "outputs": [
    {
     "name": "stdout",
     "output_type": "stream",
     "text": [
      "[0.014108896255493164, 0.0074388980865478516, 0.02737116813659668, 0.19913697242736816, 8.458359003067017, 95.52696299552917]\n"
     ]
    }
   ],
   "source": [
    "hill_double_core(length_list)\n",
    "print(hill_double_core_list)"
   ]
  },
  {
   "cell_type": "code",
   "execution_count": 12,
   "metadata": {},
   "outputs": [
    {
     "data": {
      "text/html": [
       "<div>\n",
       "<style scoped>\n",
       "    .dataframe tbody tr th:only-of-type {\n",
       "        vertical-align: middle;\n",
       "    }\n",
       "\n",
       "    .dataframe tbody tr th {\n",
       "        vertical-align: top;\n",
       "    }\n",
       "\n",
       "    .dataframe thead th {\n",
       "        text-align: right;\n",
       "    }\n",
       "</style>\n",
       "<table border=\"1\" class=\"dataframe\">\n",
       "  <thead>\n",
       "    <tr style=\"text-align: right;\">\n",
       "      <th></th>\n",
       "      <th>Plaintext length</th>\n",
       "      <th>Single core</th>\n",
       "      <th>Double core</th>\n",
       "    </tr>\n",
       "  </thead>\n",
       "  <tbody>\n",
       "    <tr>\n",
       "      <td>0</td>\n",
       "      <td>96.0</td>\n",
       "      <td>0.016334</td>\n",
       "      <td>0.014109</td>\n",
       "    </tr>\n",
       "    <tr>\n",
       "      <td>1</td>\n",
       "      <td>996.0</td>\n",
       "      <td>0.008794</td>\n",
       "      <td>0.007439</td>\n",
       "    </tr>\n",
       "    <tr>\n",
       "      <td>2</td>\n",
       "      <td>9996.0</td>\n",
       "      <td>0.044403</td>\n",
       "      <td>0.027371</td>\n",
       "    </tr>\n",
       "    <tr>\n",
       "      <td>3</td>\n",
       "      <td>99996.0</td>\n",
       "      <td>0.498990</td>\n",
       "      <td>0.199137</td>\n",
       "    </tr>\n",
       "    <tr>\n",
       "      <td>4</td>\n",
       "      <td>999996.0</td>\n",
       "      <td>21.374418</td>\n",
       "      <td>8.458359</td>\n",
       "    </tr>\n",
       "    <tr>\n",
       "      <td>5</td>\n",
       "      <td>9999996.0</td>\n",
       "      <td>2046.464079</td>\n",
       "      <td>95.526963</td>\n",
       "    </tr>\n",
       "  </tbody>\n",
       "</table>\n",
       "</div>"
      ],
      "text/plain": [
       "   Plaintext length  Single core  Double core\n",
       "0              96.0     0.016334     0.014109\n",
       "1             996.0     0.008794     0.007439\n",
       "2            9996.0     0.044403     0.027371\n",
       "3           99996.0     0.498990     0.199137\n",
       "4          999996.0    21.374418     8.458359\n",
       "5         9999996.0  2046.464079    95.526963"
      ]
     },
     "execution_count": 12,
     "metadata": {},
     "output_type": "execute_result"
    }
   ],
   "source": [
    "import numpy as np\n",
    "import pandas as pd\n",
    "\n",
    "data = []\n",
    "finaldata = []\n",
    "for i, j, k in zip(length_list, hill_single_core_list, hill_double_core_list):\n",
    "    data.append([i, j, k])\n",
    "\n",
    "data = np.array(data)\n",
    "pd.DataFrame(data, columns=['Plaintext length','Single core', 'Double core'])"
   ]
  },
  {
   "cell_type": "code",
   "execution_count": 14,
   "metadata": {},
   "outputs": [
    {
     "data": {
      "image/png": "[encoded data removed]",
      "text/plain": [
       "<Figure size 864x576 with 1 Axes>"
      ]
     },
     "metadata": {
      "needs_background": "light"
     },
     "output_type": "display_data"
    }
   ],
   "source": [
    "import matplotlib\n",
    "import matplotlib.pyplot as plt\n",
    "import decimal\n",
    "\n",
    "labels = ['96', '996', '9,996', '99,996', '9,99,996', '9,999,996']\n",
    "\n",
    "decimal.getcontext().rounding = decimal.ROUND_DOWN\n",
    "hill_single_core_list_1 = [decimal.Decimal(i) for i in hill_single_core_list]\n",
    "hill_double_core_list_1 = [decimal.Decimal(i) for i in hill_double_core_list]\n",
    "\n",
    "hill_single_core_list_1 = [float(round(i,3)) for i in hill_single_core_list_1]\n",
    "hill_double_core_list_1 = [float(round(i,3)) for i in hill_double_core_list_1]\n",
    "\n",
    "x = np.arange(len(labels))\n",
    "width = 0.30\n",
    "\n",
    "fig, ax = plt.subplots(figsize=(12, 8))\n",
    "rects1 = ax.bar(x - width/2, hill_single_core_list_1, width, label='Single Core')\n",
    "rects2 = ax.bar(x + width/2, hill_double_core_list_1, width, label='Double Core')\n",
    "\n",
    "ax.set_ylabel('Time Taken (seconds)')\n",
    "ax.set_xlabel('Plaintext Length')\n",
    "ax.set_title('Parallel Crypto')\n",
    "ax.set_xticks(x)\n",
    "ax.set_xticklabels(labels)\n",
    "ax.legend()\n",
    "\n",
    "def autolabel(rects):\n",
    "    \"\"\"Attach a text label above each bar in *rects*, displaying its height.\"\"\"\n",
    "    for rect in rects:\n",
    "        height = rect.get_height()\n",
    "        ax.annotate('{}'.format(height),\n",
    "                    xy=(rect.get_x() + rect.get_width() / 2, height),\n",
    "                    xytext=(0, 4), \n",
    "                    textcoords=\"offset points\",\n",
    "                    ha='center', va='bottom')\n",
    "autolabel(rects1)\n",
    "autolabel(rects2)\n",
    "fig.tight_layout()\n",
    "\n",
    "plt.show()"
   ]
  },
  {
   "cell_type": "code",
   "execution_count": null,
   "metadata": {},
   "outputs": [],
   "source": []
  }
 ],
 "metadata": {
  "kernelspec": {
   "display_name": "Python 3",
   "language": "python",
   "name": "python3"
  },
  "language_info": {
   "codemirror_mode": {
    "name": "ipython",
    "version": 3
   },
   "file_extension": ".py",
   "mimetype": "text/x-python",
   "name": "python",
   "nbconvert_exporter": "python",
   "pygments_lexer": "ipython3",
   "version": "3.7.4"
  }
 },
 "nbformat": 4,
 "nbformat_minor": 2
}
