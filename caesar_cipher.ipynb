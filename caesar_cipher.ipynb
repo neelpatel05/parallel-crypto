{
 "cells": [
  {
   "cell_type": "code",
   "execution_count": 1,
   "metadata": {},
   "outputs": [
    {
     "name": "stderr",
     "output_type": "stream",
     "text": [
      "2020-04-04 14:08:31,879\tINFO resource_spec.py:212 -- Starting Ray with 3.27 GiB memory available for workers and up to 1.64 GiB for objects. You can adjust these settings with ray.init(memory=<bytes>, object_store_memory=<bytes>).\n",
      "2020-04-04 14:08:32,414\tINFO services.py:1148 -- View the Ray dashboard at \u001b[1m\u001b[32mlocalhost:8265\u001b[39m\u001b[22m\n"
     ]
    },
    {
     "data": {
      "text/plain": [
       "{'node_ip_address': '10.0.0.118',\n",
       " 'redis_address': '10.0.0.118:49184',\n",
       " 'object_store_address': '/tmp/ray/session_2020-04-04_14-08-31_865504_2140/sockets/plasma_store',\n",
       " 'raylet_socket_name': '/tmp/ray/session_2020-04-04_14-08-31_865504_2140/sockets/raylet',\n",
       " 'webui_url': 'localhost:8265',\n",
       " 'session_dir': '/tmp/ray/session_2020-04-04_14-08-31_865504_2140'}"
      ]
     },
     "execution_count": 1,
     "metadata": {},
     "output_type": "execute_result"
    }
   ],
   "source": [
    "import time\n",
    "import ray\n",
    "ray.init(lru_evict=True)"
   ]
  },
  {
   "cell_type": "code",
   "execution_count": 2,
   "metadata": {},
   "outputs": [],
   "source": [
    "@ray.remote(num_cpus=1)\n",
    "def caesar_str_enc(plaintext, K):\n",
    "    ciphertext=\"\"\n",
    "    for ch in plaintext:\n",
    "        if ord(ch) == 32:\n",
    "            encch = ch\n",
    "        else:\n",
    "            encch = (ord(ch)-97+K) < 25 and chr(((ord(ch)-97+K)%26)+97) or chr(((ord(ch)-97+K-26)%26)+97)\n",
    "        ciphertext = ciphertext + encch \n",
    "    return ciphertext"
   ]
  },
  {
   "cell_type": "code",
   "execution_count": 3,
   "metadata": {},
   "outputs": [],
   "source": [
    "caesar_single_core_list = []\n",
    "\n",
    "def caesar_single_core(length_list):\n",
    "    for i in length_list:\n",
    "        plaintext = \"a\"*i\n",
    "        key = 15\n",
    "        \n",
    "        start_time = time.time()\n",
    "        full_at_a_time = caesar_str_enc.remote(plaintext, key)\n",
    "        full_at_a_time = ray.get(full_at_a_time)\n",
    "        caesar_single_core_list.append(time.time() - start_time)"
   ]
  },
  {
   "cell_type": "code",
   "execution_count": 4,
   "metadata": {},
   "outputs": [],
   "source": [
    "caesar_double_core_list = []\n",
    "\n",
    "def caesar_double_core(length_list):\n",
    "    for i in length_list:\n",
    "        plaintext = \"a\"*i\n",
    "        key = 15\n",
    "        \n",
    "        first_half = plaintext[:len(plaintext)//2]\n",
    "        second_half = plaintext[len(plaintext)//2:]\n",
    "        \n",
    "        start_time = time.time()\n",
    "        first_half = caesar_str_enc.remote(first_half, key)\n",
    "        second_half = caesar_str_enc.remote(second_half, key)\n",
    "        first_half = ray.get(first_half)\n",
    "        second_half = ray.get(second_half)\n",
    "        caesar_double_core_list.append(time.time() - start_time)"
   ]
  },
  {
   "cell_type": "code",
   "execution_count": 5,
   "metadata": {},
   "outputs": [],
   "source": [
    "length_list = [100, 1000, 10000, 100000, 1000000, 10000000, 100000000]\n",
    "caesar_single_core(length_list)\n",
    "caesar_double_core(length_list)"
   ]
  },
  {
   "cell_type": "code",
   "execution_count": 6,
   "metadata": {},
   "outputs": [],
   "source": [
    "import numpy as np\n",
    "import pandas as pd"
   ]
  },
  {
   "cell_type": "code",
   "execution_count": 7,
   "metadata": {},
   "outputs": [
    {
     "data": {
      "text/html": [
       "<div>\n",
       "<style scoped>\n",
       "    .dataframe tbody tr th:only-of-type {\n",
       "        vertical-align: middle;\n",
       "    }\n",
       "\n",
       "    .dataframe tbody tr th {\n",
       "        vertical-align: top;\n",
       "    }\n",
       "\n",
       "    .dataframe thead th {\n",
       "        text-align: right;\n",
       "    }\n",
       "</style>\n",
       "<table border=\"1\" class=\"dataframe\">\n",
       "  <thead>\n",
       "    <tr style=\"text-align: right;\">\n",
       "      <th></th>\n",
       "      <th>Plaintext length</th>\n",
       "      <th>Single core</th>\n",
       "      <th>Double core</th>\n",
       "    </tr>\n",
       "  </thead>\n",
       "  <tbody>\n",
       "    <tr>\n",
       "      <td>0</td>\n",
       "      <td>100.0</td>\n",
       "      <td>3.095938</td>\n",
       "      <td>0.003352</td>\n",
       "    </tr>\n",
       "    <tr>\n",
       "      <td>1</td>\n",
       "      <td>1000.0</td>\n",
       "      <td>0.003419</td>\n",
       "      <td>0.002430</td>\n",
       "    </tr>\n",
       "    <tr>\n",
       "      <td>2</td>\n",
       "      <td>10000.0</td>\n",
       "      <td>0.012301</td>\n",
       "      <td>0.005229</td>\n",
       "    </tr>\n",
       "    <tr>\n",
       "      <td>3</td>\n",
       "      <td>100000.0</td>\n",
       "      <td>0.079542</td>\n",
       "      <td>0.032946</td>\n",
       "    </tr>\n",
       "    <tr>\n",
       "      <td>4</td>\n",
       "      <td>1000000.0</td>\n",
       "      <td>0.741734</td>\n",
       "      <td>0.331617</td>\n",
       "    </tr>\n",
       "    <tr>\n",
       "      <td>5</td>\n",
       "      <td>10000000.0</td>\n",
       "      <td>6.287088</td>\n",
       "      <td>3.148533</td>\n",
       "    </tr>\n",
       "    <tr>\n",
       "      <td>6</td>\n",
       "      <td>100000000.0</td>\n",
       "      <td>60.941293</td>\n",
       "      <td>37.111739</td>\n",
       "    </tr>\n",
       "  </tbody>\n",
       "</table>\n",
       "</div>"
      ],
      "text/plain": [
       "   Plaintext length  Single core  Double core\n",
       "0             100.0     3.095938     0.003352\n",
       "1            1000.0     0.003419     0.002430\n",
       "2           10000.0     0.012301     0.005229\n",
       "3          100000.0     0.079542     0.032946\n",
       "4         1000000.0     0.741734     0.331617\n",
       "5        10000000.0     6.287088     3.148533\n",
       "6       100000000.0    60.941293    37.111739"
      ]
     },
     "execution_count": 7,
     "metadata": {},
     "output_type": "execute_result"
    }
   ],
   "source": [
    "data = []\n",
    "finaldata = []\n",
    "for i, j, k in zip(length_list, caesar_single_core_list, caesar_double_core_list):\n",
    "    data.append([i, j, k])\n",
    "\n",
    "data = np.array(data)\n",
    "pd.DataFrame(data, columns=['Plaintext length','Single core', 'Double core'])"
   ]
  },
  {
   "cell_type": "code",
   "execution_count": 26,
   "metadata": {},
   "outputs": [
    {
     "data": {
      "image/png": "[encoded data removed]",
      "text/plain": [
       "<Figure size 864x576 with 1 Axes>"
      ]
     },
     "metadata": {
      "needs_background": "light"
     },
     "output_type": "display_data"
    }
   ],
   "source": [
    "import matplotlib\n",
    "import matplotlib.pyplot as plt\n",
    "import decimal\n",
    "\n",
    "labels = [\"100\", \"1000\", \"10,000\", \"100,000\", \"1,000,000\", \"10,000,000\", \"100,000,000\"]\n",
    "\n",
    "decimal.getcontext().rounding = decimal.ROUND_DOWN\n",
    "caesar_single_core_list_1 = [decimal.Decimal(i) for i in caesar_single_core_list]\n",
    "caesar_double_core_list_1 = [decimal.Decimal(i) for i in caesar_double_core_list]\n",
    "\n",
    "caesar_single_core_list_1 = [float(round(i,3)) for i in caesar_single_core_list_1]\n",
    "caesar_double_core_list_1 = [float(round(i,3)) for i in caesar_double_core_list_1]\n",
    "\n",
    "x = np.arange(len(labels))\n",
    "width = 0.30\n",
    "\n",
    "fig, ax = plt.subplots(figsize=(12, 8))\n",
    "rects1 = ax.bar(x - width/2, caesar_single_core_list_1, width, label='Single Core')\n",
    "rects2 = ax.bar(x + width/2, caesar_double_core_list_1, width, label='Double Core')\n",
    "\n",
    "ax.set_ylabel('Time Taken')\n",
    "ax.set_xlabel('Plaintext Length')\n",
    "ax.set_title('Parallel Crypto')\n",
    "ax.set_xticks(x)\n",
    "ax.set_xticklabels(labels)\n",
    "ax.legend()\n",
    "\n",
    "def autolabel(rects):\n",
    "    \"\"\"Attach a text label above each bar in *rects*, displaying its height.\"\"\"\n",
    "    for rect in rects:\n",
    "        height = rect.get_height()\n",
    "        ax.annotate('{}'.format(height),\n",
    "                    xy=(rect.get_x() + rect.get_width() / 2, height),\n",
    "                    xytext=(0, 4), \n",
    "                    textcoords=\"offset points\",\n",
    "                    ha='center', va='bottom')\n",
    "autolabel(rects1)\n",
    "autolabel(rects2)\n",
    "fig.tight_layout()\n",
    "\n",
    "plt.show()"
   ]
  },
  {
   "cell_type": "code",
   "execution_count": null,
   "metadata": {},
   "outputs": [],
   "source": []
  }
 ],
 "metadata": {
  "kernelspec": {
   "display_name": "Python 3",
   "language": "python",
   "name": "python3"
  },
  "language_info": {
   "codemirror_mode": {
    "name": "ipython",
    "version": 3
   },
   "file_extension": ".py",
   "mimetype": "text/x-python",
   "name": "python",
   "nbconvert_exporter": "python",
   "pygments_lexer": "ipython3",
   "version": "3.7.4"
  }
 },
 "nbformat": 4,
 "nbformat_minor": 2
}
