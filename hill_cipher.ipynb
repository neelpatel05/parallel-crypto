{
 "cells": [
  {
   "cell_type": "code",
   "execution_count": 1,
   "metadata": {},
   "outputs": [
    {
     "name": "stderr",
     "output_type": "stream",
     "text": [
      "2020-04-04 18:41:35,707\tINFO resource_spec.py:212 -- Starting Ray with 2.59 GiB memory available for workers and up to 1.32 GiB for objects. You can adjust these settings with ray.init(memory=<bytes>, object_store_memory=<bytes>).\n",
      "2020-04-04 18:41:36,070\tINFO services.py:1148 -- View the Ray dashboard at \u001b[1m\u001b[32mlocalhost:8265\u001b[39m\u001b[22m\n"
     ]
    },
    {
     "data": {
      "text/plain": [
       "{'node_ip_address': '10.0.0.118',\n",
       " 'redis_address': '10.0.0.118:28071',\n",
       " 'object_store_address': '/tmp/ray/session_2020-04-04_18-41-35_691374_3117/sockets/plasma_store',\n",
       " 'raylet_socket_name': '/tmp/ray/session_2020-04-04_18-41-35_691374_3117/sockets/raylet',\n",
       " 'webui_url': 'localhost:8265',\n",
       " 'session_dir': '/tmp/ray/session_2020-04-04_18-41-35_691374_3117'}"
      ]
     },
     "execution_count": 1,
     "metadata": {},
     "output_type": "execute_result"
    }
   ],
   "source": [
    "import numpy as np\n",
    "import time\n",
    "import ray\n",
    "ray.init(lru_evict=True)"
   ]
  },
  {
   "cell_type": "code",
   "execution_count": 2,
   "metadata": {},
   "outputs": [],
   "source": [
    "@ray.remote\n",
    "def hill_enc(plaintext):\n",
    "    \n",
    "    M = np.array([[25,15,20],[7,8,22],[7,13,13]])\n",
    "    if len(plaintext)%3!=0: plaintext = plaintext + \"x\"*(((len(plaintext)//3) + 1)*3 - len(plaintext))\n",
    "    plaintext_ascii = [ord(i)-97 for i in plaintext[0:(len(plaintext)*((len(plaintext)//3)+1))]]\n",
    "    plaintext_three_words_ascii = [np.asarray(plaintext_ascii[i:i+3]) for i in range(0,len(plaintext_ascii),3)]\n",
    "    ciphertext_three_words_ascii = [np.matmul(M, i) for i in plaintext_three_words_ascii]\n",
    "    ciphertext_three_words_ascii = [chr((j%26)+97) for i in ciphertext_three_words_ascii for j in i]\n",
    "    c = \"\".join(ciphertext_three_words_ascii)\n",
    "    \n",
    "    return c"
   ]
  },
  {
   "cell_type": "code",
   "execution_count": 3,
   "metadata": {},
   "outputs": [],
   "source": [
    "hill_single_core_list = []\n",
    "\n",
    "def hill_single_core(length_list):\n",
    "    for i in length_list:\n",
    "        plaintext = \"a\"*i\n",
    "        \n",
    "        start_time = time.time()\n",
    "        \n",
    "        full_at_a_time = hill_enc.remote(plaintext)\n",
    "        full_at_a_time = ray.get(full_at_a_time)\n",
    "        \n",
    "        end_time = time.time() - start_time\n",
    "        print(end_time)\n",
    "        hill_single_core_list.append(time.time() - start_time)"
   ]
  },
  {
   "cell_type": "code",
   "execution_count": 4,
   "metadata": {},
   "outputs": [],
   "source": [
    "hill_double_core_list = []\n",
    "\n",
    "def hill_double_core(length_list):\n",
    "    for i in length_list:\n",
    "        plaintext = 'a'*i\n",
    "        first_half = plaintext[:len(plaintext)//2]\n",
    "        second_half = plaintext[len(plaintext)//2:]\n",
    "        \n",
    "        start_time = time.time()\n",
    "        \n",
    "        first_half = hill_enc.remote(first_half)\n",
    "        second_half = hill_enc.remote(second_half)\n",
    "        \n",
    "        first_half = ray.get(first_half)\n",
    "        second_half = ray.get(second_half)\n",
    "        \n",
    "        end_time = time.time() - start_time\n",
    "        print(end_time)\n",
    "        hill_double_core_list.append(end_time)"
   ]
  },
  {
   "cell_type": "code",
   "execution_count": 5,
   "metadata": {},
   "outputs": [
    {
     "name": "stdout",
     "output_type": "stream",
     "text": [
      "2.905935764312744\n",
      "0.014993906021118164\n",
      "0.02994394302368164\n",
      "1.0813922882080078\n",
      "21.326673984527588\n",
      "0.002343893051147461\n",
      "0.0034570693969726562\n",
      "0.01541590690612793\n",
      "0.1913299560546875\n",
      "9.136029958724976\n"
     ]
    }
   ],
   "source": [
    "length_list = [96, 996, 9996, 99996, 999996]\n",
    "hill_single_core(length_list)\n",
    "hill_double_core(length_list)"
   ]
  },
  {
   "cell_type": "code",
   "execution_count": 6,
   "metadata": {},
   "outputs": [
    {
     "data": {
      "text/html": [
       "<div>\n",
       "<style scoped>\n",
       "    .dataframe tbody tr th:only-of-type {\n",
       "        vertical-align: middle;\n",
       "    }\n",
       "\n",
       "    .dataframe tbody tr th {\n",
       "        vertical-align: top;\n",
       "    }\n",
       "\n",
       "    .dataframe thead th {\n",
       "        text-align: right;\n",
       "    }\n",
       "</style>\n",
       "<table border=\"1\" class=\"dataframe\">\n",
       "  <thead>\n",
       "    <tr style=\"text-align: right;\">\n",
       "      <th></th>\n",
       "      <th>Plaintext length</th>\n",
       "      <th>Single core</th>\n",
       "      <th>Double core</th>\n",
       "    </tr>\n",
       "  </thead>\n",
       "  <tbody>\n",
       "    <tr>\n",
       "      <td>0</td>\n",
       "      <td>96.0</td>\n",
       "      <td>2.906095</td>\n",
       "      <td>0.002344</td>\n",
       "    </tr>\n",
       "    <tr>\n",
       "      <td>1</td>\n",
       "      <td>996.0</td>\n",
       "      <td>0.015139</td>\n",
       "      <td>0.003457</td>\n",
       "    </tr>\n",
       "    <tr>\n",
       "      <td>2</td>\n",
       "      <td>9996.0</td>\n",
       "      <td>0.030102</td>\n",
       "      <td>0.015416</td>\n",
       "    </tr>\n",
       "    <tr>\n",
       "      <td>3</td>\n",
       "      <td>99996.0</td>\n",
       "      <td>1.081516</td>\n",
       "      <td>0.191330</td>\n",
       "    </tr>\n",
       "    <tr>\n",
       "      <td>4</td>\n",
       "      <td>999996.0</td>\n",
       "      <td>21.326826</td>\n",
       "      <td>9.136030</td>\n",
       "    </tr>\n",
       "  </tbody>\n",
       "</table>\n",
       "</div>"
      ],
      "text/plain": [
       "   Plaintext length  Single core  Double core\n",
       "0              96.0     2.906095     0.002344\n",
       "1             996.0     0.015139     0.003457\n",
       "2            9996.0     0.030102     0.015416\n",
       "3           99996.0     1.081516     0.191330\n",
       "4          999996.0    21.326826     9.136030"
      ]
     },
     "execution_count": 6,
     "metadata": {},
     "output_type": "execute_result"
    }
   ],
   "source": [
    "import numpy as np\n",
    "import pandas as pd\n",
    "\n",
    "data = []\n",
    "for i, j, k in zip(length_list, hill_single_core_list, hill_double_core_list):\n",
    "    data.append([i, j, k])\n",
    "\n",
    "data = np.array(data)\n",
    "pd.DataFrame(data, columns=['Plaintext length','Single core', 'Double core'])"
   ]
  },
  {
   "cell_type": "code",
   "execution_count": 8,
   "metadata": {},
   "outputs": [
    {
     "data": {
      "image/png": "[encoded data removed]",
      "text/plain": [
       "<Figure size 864x576 with 1 Axes>"
      ]
     },
     "metadata": {
      "needs_background": "light"
     },
     "output_type": "display_data"
    }
   ],
   "source": [
    "import matplotlib\n",
    "import matplotlib.pyplot as plt\n",
    "import decimal\n",
    "\n",
    "labels = ['96', '996', '9,996', '99,996', '9,99,996']\n",
    "\n",
    "decimal.getcontext().rounding = decimal.ROUND_DOWN\n",
    "hill_single_core_list_1 = [decimal.Decimal(i) for i in hill_single_core_list]\n",
    "hill_double_core_list_1 = [decimal.Decimal(i) for i in hill_double_core_list]\n",
    "\n",
    "hill_single_core_list_1 = [float(round(i,3)) for i in hill_single_core_list_1]\n",
    "hill_double_core_list_1 = [float(round(i,3)) for i in hill_double_core_list_1]\n",
    "\n",
    "x = np.arange(len(labels))\n",
    "width = 0.30\n",
    "\n",
    "fig, ax = plt.subplots(figsize=(12, 8))\n",
    "rects1 = ax.bar(x - width/2, hill_single_core_list_1, width, label='Single Core')\n",
    "rects2 = ax.bar(x + width/2, hill_double_core_list_1, width, label='Double Core')\n",
    "\n",
    "ax.set_ylabel('Time Taken (seconds)')\n",
    "ax.set_xlabel('Plaintext Length')\n",
    "ax.set_title('Parallel Crypto')\n",
    "ax.set_xticks(x)\n",
    "ax.set_xticklabels(labels)\n",
    "ax.legend()\n",
    "\n",
    "def autolabel(rects):\n",
    "    \"\"\"Attach a text label above each bar in *rects*, displaying its height.\"\"\"\n",
    "    for rect in rects:\n",
    "        height = rect.get_height()\n",
    "        ax.annotate('{}'.format(height),\n",
    "                    xy=(rect.get_x() + rect.get_width() / 2, height),\n",
    "                    xytext=(0, 4), \n",
    "                    textcoords=\"offset points\",\n",
    "                    ha='center', va='bottom')\n",
    "autolabel(rects1)\n",
    "autolabel(rects2)\n",
    "fig.tight_layout()\n",
    "\n",
    "plt.show()"
   ]
  },
  {
   "cell_type": "code",
   "execution_count": null,
   "metadata": {},
   "outputs": [],
   "source": []
  }
 ],
 "metadata": {
  "kernelspec": {
   "display_name": "Python 3",
   "language": "python",
   "name": "python3"
  },
  "language_info": {
   "codemirror_mode": {
    "name": "ipython",
    "version": 3
   },
   "file_extension": ".py",
   "mimetype": "text/x-python",
   "name": "python",
   "nbconvert_exporter": "python",
   "pygments_lexer": "ipython3",
   "version": "3.7.4"
  }
 },
 "nbformat": 4,
 "nbformat_minor": 2
}
